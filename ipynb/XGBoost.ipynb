{
 "cells": [
  {
   "cell_type": "markdown",
   "id": "939d487e-7f82-487e-98d7-80ab912196e4",
   "metadata": {},
   "source": [
    "# 환경 확인"
   ]
  },
  {
   "cell_type": "code",
   "execution_count": 15,
   "id": "074dea61-591f-4b69-b172-aa299765889a",
   "metadata": {
    "collapsed": true,
    "jupyter": {
     "outputs_hidden": true
    }
   },
   "outputs": [
    {
     "name": "stdout",
     "output_type": "stream",
     "text": [
      "Python executable: /home/jaecheon/miniconda3/envs/scenvi/bin/python\n",
      "Conda env name: scenvi\n",
      "sys.path:\n",
      "  /home/jaecheon/miniconda3/envs/scenvi/lib/python310.zip\n",
      "  /home/jaecheon/miniconda3/envs/scenvi/lib/python3.10\n",
      "  /home/jaecheon/miniconda3/envs/scenvi/lib/python3.10/lib-dynload\n",
      "  \n",
      "  /home/jaecheon/.local/lib/python3.10/site-packages\n",
      "  /home/jaecheon/miniconda3/envs/scenvi/lib/python3.10/site-packages\n",
      "  /data/kjc1/mylit/mypy\n"
     ]
    }
   ],
   "source": [
    "import sys, os\n",
    "# 1) 현재 파이썬 실행 파일 경로\n",
    "print(\"Python executable:\", sys.executable)\n",
    "\n",
    "# 2) (conda 사용 시) 현재 활성화된 환경 이름\n",
    "print(\"Conda env name:\", os.environ.get(\"CONDA_DEFAULT_ENV\"))\n",
    "\n",
    "# 3) 패키지 검색 경로 확인\n",
    "print(\"sys.path:\")\n",
    "for p in sys.path:\n",
    "    print(\" \", p)"
   ]
  },
  {
   "cell_type": "markdown",
   "id": "ca263584-9d4a-4ce6-8766-ceaea96b6da4",
   "metadata": {},
   "source": [
    "# import"
   ]
  },
  {
   "cell_type": "code",
   "execution_count": 50,
   "id": "eea2de5b-8b05-4601-a7b8-b4976004cdbb",
   "metadata": {},
   "outputs": [
    {
     "name": "stdout",
     "output_type": "stream",
     "text": [
      "The autoreload extension is already loaded. To reload it, use:\n",
      "  %reload_ext autoreload\n"
     ]
    }
   ],
   "source": [
    "%load_ext autoreload\n",
    "%autoreload 2\n",
    "#모든 모듈을 import 할 때마다 자동으로 다시 불러오기\n",
    "import mypy\n",
    "import scanpy as sc\n",
    "import pandas as pd\n",
    "import numpy as np\n",
    "from mypy.XGBoost import find_prognostic_genes_xgb, find_robust_prognostic_genes_with_downsampling, xgb_gset_finder"
   ]
  },
  {
   "cell_type": "code",
   "execution_count": 49,
   "id": "8c4bdcf4-5f2e-4b89-a515-5d6acf58b757",
   "metadata": {},
   "outputs": [],
   "source": [
    "import sys\n",
    "# mypkg 와 그 하위 모듈 모두 삭제\n",
    "for mod in list(sys.modules):\n",
    "    if mod.startswith(\"mypy\"):\n",
    "        del sys.modules[mod]"
   ]
  },
  {
   "cell_type": "code",
   "execution_count": 31,
   "id": "c717bd05-d8fc-4b6c-8ddc-be080f6d1cce",
   "metadata": {},
   "outputs": [],
   "source": [
    "pd.set_option('display.max_rows', None)"
   ]
  },
  {
   "cell_type": "code",
   "execution_count": 5,
   "id": "cfb0d1a8-8936-4b31-8502-34d9b8767111",
   "metadata": {},
   "outputs": [],
   "source": [
    "adata=sc.read_h5ad(\"/data/kjc1/projects/#130.stroke/sobj/h5ad/is.h5ad\")"
   ]
  },
  {
   "cell_type": "code",
   "execution_count": 6,
   "id": "e7ff80fd-bf2d-438c-836a-550799c3cedd",
   "metadata": {},
   "outputs": [
    {
     "data": {
      "text/plain": [
       "AnnData object with n_obs × n_vars = 33878 × 27285\n",
       "    obs: 'orig.ident', 'nCount_RNA', 'nFeature_RNA', 'Barcode', 'Best_Sample', 'Best_Probability', 'Second_Best_Sample', 'Second_Best_Probability', 'Probability_Ratio', 'droplet_demulti', 'GEM', 'join_key', 'day', 'nCount_SCT', 'nFeature_SCT', 'SCT_snn_res.0.8', 'seurat_clusters', 'droplet', 'sample_hto', 'GEM_hto', 'ol_time_point', 'sample_no', 'hos_no', 'sample_type', 'experiment_number', 'name', 'sex', 'birthdate', 'age', 'type', 'adm_date', 'sx_onset', 'blood_sample_time', 'csf_yn', 'csf_sample_time', 'csf_from', 'sample_done_time', 'exp_sample_no', 'set', 'multi_method', 'hto_no', 'charge', 'crcs_no', 'hash_id', 'sample_no.1', 'male', 'ht', 'wt', 'last_normal_dt', 'symptom_onset_dt', 'arrival_dt', 'blood_sample_time.1', 'LNT_to_sample_h', 'FAT_to_sample_h', 'hx_pre_mrs', 'toast', 'ivt', 'iat', 'ia_angio', 'pre_evt_state', 'post_evt_state', 'succ_recan', 'iv_start', 'ia_start', 'ia_end', 'lnt_to_iat_h', 'iat_to_sample_h', 'sHT', 'HT_type', 'END', 'END1_kind', 'nih_end1', 'ini_nih', 'nih1d', 'dis_nih', 'nih_change', 'reperfusion_injury', 'icu_dis_gcs_total', 'dis_mrs', 'mrs3mo', 'mrs_6m', 'gose_6m', 'mrs_12m', 'gose_12m', 'hx_htn', 'hx_dm', 'hx_hl', 'hx_af', 'hx_chd', 'hx_ckd', 'hx_tia', 'hx_str', 'hx_pad', 'hx_ca', 'hx_smok', 'wbc', 'hb', 'plt', 'fbs', 'ldl', 'ha1c', 'crp', 'tc', 'tg', 'hdl', 'd_dimer', 'memo', 'group', 'group1', 'group2', 'group3', 'integrated_snn_res.0.8', 'annotation4_gemini', 'integrated_1.1', 'annotation1_gemini', 'annotation2_big', 'annotation2_detail'\n",
       "    var: 'gene_symbols'\n",
       "    uns: 'project_name', 'seurat_default_assay', 'seurat_version'\n",
       "    obsm: 'X_pca', 'X_umap'\n",
       "    layers: 'RNA_counts'"
      ]
     },
     "execution_count": 6,
     "metadata": {},
     "output_type": "execute_result"
    }
   ],
   "source": [
    "adata"
   ]
  },
  {
   "cell_type": "code",
   "execution_count": 10,
   "id": "48b6041a-da0d-484d-902e-54b3b0c4046b",
   "metadata": {},
   "outputs": [
    {
     "data": {
      "text/plain": [
       "\u001b[0;31mSignature:\u001b[0m\n",
       "\u001b[0mfind_prognostic_genes_xgb\u001b[0m\u001b[0;34m(\u001b[0m\u001b[0;34m\u001b[0m\n",
       "\u001b[0;34m\u001b[0m    \u001b[0madata\u001b[0m\u001b[0;34m:\u001b[0m \u001b[0manndata\u001b[0m\u001b[0;34m.\u001b[0m\u001b[0m_core\u001b[0m\u001b[0;34m.\u001b[0m\u001b[0manndata\u001b[0m\u001b[0;34m.\u001b[0m\u001b[0mAnnData\u001b[0m\u001b[0;34m,\u001b[0m\u001b[0;34m\u001b[0m\n",
       "\u001b[0;34m\u001b[0m    \u001b[0msample_label_col\u001b[0m\u001b[0;34m:\u001b[0m \u001b[0mstr\u001b[0m\u001b[0;34m,\u001b[0m\u001b[0;34m\u001b[0m\n",
       "\u001b[0;34m\u001b[0m    \u001b[0mprognosis_factor_col\u001b[0m\u001b[0;34m:\u001b[0m \u001b[0mstr\u001b[0m\u001b[0;34m,\u001b[0m\u001b[0;34m\u001b[0m\n",
       "\u001b[0;34m\u001b[0m    \u001b[0mcell_identity_col\u001b[0m\u001b[0;34m:\u001b[0m \u001b[0mstr\u001b[0m \u001b[0;34m=\u001b[0m \u001b[0;32mNone\u001b[0m\u001b[0;34m,\u001b[0m\u001b[0;34m\u001b[0m\n",
       "\u001b[0;34m\u001b[0m    \u001b[0mtarget_cell_identity\u001b[0m\u001b[0;34m:\u001b[0m \u001b[0mstr\u001b[0m \u001b[0;34m=\u001b[0m \u001b[0;32mNone\u001b[0m\u001b[0;34m,\u001b[0m\u001b[0;34m\u001b[0m\n",
       "\u001b[0;34m\u001b[0m    \u001b[0muse_pseudobulk\u001b[0m\u001b[0;34m:\u001b[0m \u001b[0mbool\u001b[0m \u001b[0;34m=\u001b[0m \u001b[0;32mTrue\u001b[0m\u001b[0;34m,\u001b[0m\u001b[0;34m\u001b[0m\n",
       "\u001b[0;34m\u001b[0m    \u001b[0mn_top_genes\u001b[0m\u001b[0;34m:\u001b[0m \u001b[0mint\u001b[0m \u001b[0;34m=\u001b[0m \u001b[0;36m50\u001b[0m\u001b[0;34m,\u001b[0m\u001b[0;34m\u001b[0m\n",
       "\u001b[0;34m\u001b[0m    \u001b[0mtest_size\u001b[0m\u001b[0;34m:\u001b[0m \u001b[0mfloat\u001b[0m \u001b[0;34m=\u001b[0m \u001b[0;36m0.2\u001b[0m\u001b[0;34m,\u001b[0m\u001b[0;34m\u001b[0m\n",
       "\u001b[0;34m\u001b[0m    \u001b[0mrandom_state\u001b[0m\u001b[0;34m:\u001b[0m \u001b[0mint\u001b[0m \u001b[0;34m=\u001b[0m \u001b[0;36m42\u001b[0m\u001b[0;34m,\u001b[0m\u001b[0;34m\u001b[0m\n",
       "\u001b[0;34m\u001b[0m\u001b[0;34m)\u001b[0m \u001b[0;34m->\u001b[0m \u001b[0mpandas\u001b[0m\u001b[0;34m.\u001b[0m\u001b[0mcore\u001b[0m\u001b[0;34m.\u001b[0m\u001b[0mframe\u001b[0m\u001b[0;34m.\u001b[0m\u001b[0mDataFrame\u001b[0m\u001b[0;34m\u001b[0m\u001b[0;34m\u001b[0m\u001b[0m\n",
       "\u001b[0;31mDocstring:\u001b[0m\n",
       "XGBoost를 사용하여 예후 인자와 관련된 유전자를 찾고 중요도 순으로 나열합니다.\n",
       "\n",
       "Args:\n",
       "    adata (anndata.AnnData): 입력 AnnData 객체. adata.X는 유전자 발현 행렬이어야 합니다.\n",
       "    sample_label_col (str): adata.obs에서 샘플/환자 식별자 컬럼 이름. 유사벌크 생성 시 사용됩니다.\n",
       "    prognosis_factor_col (str): adata.obs에서 예후 인자 컬럼 이름.\n",
       "                                 (수치형 또는 'high'/'low'와 같은 이진 범주형).\n",
       "    cell_identity_col (str, optional): adata.obs에서 세포 식별 정보 컬럼 이름.\n",
       "                                       특정 세포 유형만 분석 대상일 경우 사용. Defaults to None.\n",
       "    target_cell_identity (str, optional): cell_identity_col에서 분석 대상이 되는 특정 세포 클러스터 레이블.\n",
       "                                          cell_identity_col이 제공된 경우 필수. Defaults to None.\n",
       "    use_pseudobulk (bool): 유사벌크 분석을 수행할지 여부.\n",
       "                           True이면 sample_label_col을 기준으로 유사벌크를 생성합니다.\n",
       "                           False이면 세포 단위로 분석합니다. Defaults to True.\n",
       "    n_top_genes (int): 반환할 상위 유전자 개수. Defaults to 50.\n",
       "    test_size (float): 테스트 데이터셋 비율. Defaults to 0.2.\n",
       "    random_state (int): 재현성을 위한 난수 시드. Defaults to 42.\n",
       "\n",
       "Returns:\n",
       "    pd.DataFrame: 'gene'와 'importance' 컬럼을 가진 데이터프레임.\n",
       "                  예후 예측/추정에 중요한 유전자를 중요도 순으로 정렬하여 반환.\n",
       "                  모델 성능(정확도 또는 MSE)도 함께 반환.\n",
       "\u001b[0;31mFile:\u001b[0m      /data/kjc1/mylit/mypy/mypy/XGBoost.py\n",
       "\u001b[0;31mType:\u001b[0m      function"
      ]
     },
     "metadata": {},
     "output_type": "display_data"
    }
   ],
   "source": [
    "?find_prognostic_genes_xgb"
   ]
  },
  {
   "cell_type": "code",
   "execution_count": 19,
   "id": "166a3f1f-e6d1-4d87-9053-110ebaa119e7",
   "metadata": {},
   "outputs": [
    {
     "name": "stdout",
     "output_type": "stream",
     "text": [
      "Filtering for cell identity: CD4_T_Cell\n",
      "Prognosis factor is numeric. Treating as regression.\n",
      "XGBoost Regressor MSE: 82.2047\n"
     ]
    }
   ],
   "source": [
    "genes_total=find_prognostic_genes_xgb(adata,\"exp_sample_no\",\"nih_change\")\n",
    "genes_total_=find_prognostic_genes_xgb(adata,\"exp_sample_no\",\"group3\")\n",
    "genes_in_tc4=find_prognostic_genes_xgb(adata, \"exp_sample_no\", \"nih_change\", \"annotation2_big\", \"CD4_T_Cell\", n_top_genes=200)\n",
    "genes_in_tc4_=find_prognostic_genes_xgb(adata, \"exp_sample_no\", \"group3\", \"annotation2_big\", \"CD4_T_Cell\", n_top_genes=200)\n",
    "gene_in_tc4_boot=find_robust_prognostic_genes_with_downsampling(adata,\"exp_sample_no\",\"nih_change\",cell_identity_col=\"annotation2_big\", target_cell_identity=\"CD4_T_Cell\")\n",
    "gene_in_tc4_boot_=find_robust_prognostic_genes_with_downsampling(adata,\"exp_sample_no\",\"group3\",cell_identity_col=\"annotation2_big\", target_cell_identity=\"CD4_T_Cell\")"
   ]
  },
  {
   "cell_type": "code",
   "execution_count": 32,
   "id": "f278a9a0-875e-40a9-ac5d-b122d645b12e",
   "metadata": {
    "collapsed": true,
    "jupyter": {
     "outputs_hidden": true
    }
   },
   "outputs": [
    {
     "name": "stdout",
     "output_type": "stream",
     "text": [
      "(               gene    importance\n",
      "5418         NUDT12  2.419886e-01\n",
      "9085          TOR1B  1.478620e-01\n",
      "1670            CR2  1.450740e-01\n",
      "121        RERE-AS1  8.928900e-02\n",
      "875             AGL  8.804797e-02\n",
      "1426          MPZL1  5.319317e-02\n",
      "275             ID3  4.784174e-02\n",
      "10147         UEVLD  4.595370e-02\n",
      "136      PIK3CD-AS2  4.291345e-02\n",
      "11483          CDK2  2.429947e-02\n",
      "5            FAM41C  1.164970e-02\n",
      "14553          IRF8  1.074016e-02\n",
      "21          B3GALT6  8.892450e-03\n",
      "372            RCC1  8.649710e-03\n",
      "674            NDC1  5.779915e-03\n",
      "115            UTS2  5.436709e-03\n",
      "777      AC103591.3  3.574454e-03\n",
      "3391      LINC02084  2.937950e-03\n",
      "4         LINC00115  2.076031e-03\n",
      "164           FBXO6  2.012528e-03\n",
      "55             GNB1  1.720601e-03\n",
      "8841     AL133477.2  1.639488e-03\n",
      "1671            CR1  1.460504e-03\n",
      "8            KLHL17  1.409509e-03\n",
      "18         TNFRSF18  1.358297e-03\n",
      "51         SLC35E2B  1.245507e-03\n",
      "2         LINC01409  8.817185e-04\n",
      "14210         ITGAX  5.072025e-04\n",
      "2682       AMMECR1L  3.087755e-04\n",
      "7             NOC2L  2.843316e-04\n",
      "14         C1orf159  1.318188e-04\n",
      "103            NOL9  1.248381e-04\n",
      "3         LINC01128  1.230030e-04\n",
      "52           CDK11A  8.183062e-05\n",
      "370           MED18  7.606175e-05\n",
      "188           CASP9  7.428525e-05\n",
      "13021           CKB  6.647734e-05\n",
      "1297          TTC24  5.268591e-05\n",
      "427         S100PBP  4.599861e-05\n",
      "9           PLEKHN1  4.533030e-05\n",
      "9333         PLXDC2  4.289721e-05\n",
      "1285       SLC25A44  2.986967e-05\n",
      "790            RPF1  2.497891e-05\n",
      "7698       TRBV12-4  1.676810e-05\n",
      "1060         NBPF15  9.815466e-06\n",
      "261          ZBTB40  8.441539e-06\n",
      "10169       METTL15  6.347158e-06\n",
      "62              SKI  3.177882e-06\n",
      "32             DVL1  2.026645e-06\n",
      "11            ISG15  8.807947e-07\n",
      "209           CROCC  8.179774e-07\n",
      "1140   ADAMTSL4-AS1  7.758995e-07\n",
      "39           ATAD3C  7.676396e-07\n",
      "1        AL627309.5  4.969141e-07\n",
      "49           CDK11B  4.022504e-07\n",
      "362            XKR8  3.999342e-07\n",
      "8930        SLC31A1  1.755587e-07\n",
      "18741    ZNF674-AS1  4.642615e-08\n",
      "857         DNTTIP2  3.812682e-08\n",
      "132        SLC25A33  2.585512e-08\n",
      "8359        TBC1D31  2.182444e-08\n",
      "16366         S1PR5  1.607823e-08\n",
      "4863           IL15  9.593747e-09\n",
      "92            NPHP4  7.857467e-09\n",
      "2281         SLC1A4  6.045516e-09\n",
      "1034         TENT5C  4.430313e-09\n",
      "40           ATAD3B  3.359550e-09\n",
      "563           KDM4A  2.114118e-09\n",
      "16579         IFI30  2.003313e-09\n",
      "18235        RSPH14  0.000000e+00\n",
      "18209      IGLV7-43  0.000000e+00\n",
      "18208      IGLV1-44  0.000000e+00\n",
      "18230         IGLC2  0.000000e+00\n",
      "18207      IGLV5-45  0.000000e+00\n",
      "18231         IGLC3  0.000000e+00\n",
      "18206      IGLV7-46  0.000000e+00\n",
      "18205      IGLV1-47  0.000000e+00\n",
      "18204      IGLV9-49  0.000000e+00\n",
      "18236          GNAZ  0.000000e+00\n",
      "18203      IGLV1-51  0.000000e+00\n",
      "18202      IGLV5-52  0.000000e+00\n",
      "18232         IGLC5  0.000000e+00\n",
      "18237         RAB36  0.000000e+00\n",
      "18201    AC245060.5  0.000000e+00\n",
      "18200    AC245060.6  0.000000e+00\n",
      "18238           BCR  0.000000e+00\n",
      "18210      IGLV1-41  0.000000e+00\n",
      "18233         IGLC6  0.000000e+00\n",
      "18225       IGLV2-5  0.000000e+00\n",
      "18224       IGLV2-8  0.000000e+00\n",
      "18223       IGLV3-9  0.000000e+00\n",
      "18222      IGLV3-10  0.000000e+00\n",
      "18221      IGLV2-11  0.000000e+00\n",
      "18220      IGLV2-14  0.000000e+00\n",
      "18226       IGLV4-3  0.000000e+00\n",
      "18219      IGLV2-18  0.000000e+00\n",
      "18211      IGLV1-40  0.000000e+00\n",
      "18217      IGLV3-21  0.000000e+00\n",
      "18216      IGLV2-23  0.000000e+00\n",
      "18227       IGLV3-1  0.000000e+00\n",
      "18234         IGLC7  0.000000e+00\n",
      "18228         IGLJ1  0.000000e+00\n",
      "18229         IGLC1  0.000000e+00\n",
      "18215      IGLV3-25  0.000000e+00\n",
      "18214      IGLV3-27  0.000000e+00\n",
      "18213       ZNF280B  0.000000e+00\n",
      "18212      IGLV1-36  0.000000e+00\n",
      "18218      IGLV3-19  0.000000e+00\n",
      "18171         PI4KA  0.000000e+00\n",
      "18170         MED15  0.000000e+00\n",
      "18169        KLHL22  0.000000e+00\n",
      "18168        SCARF2  0.000000e+00\n",
      "18167         ZNF74  0.000000e+00\n",
      "18166        DGCR6L  0.000000e+00\n",
      "18165         RTN4R  0.000000e+00\n",
      "18164     LINC00896  0.000000e+00\n",
      "18163        ZDHHC8  0.000000e+00\n",
      "18162        RANBP1  0.000000e+00\n",
      "18161        TRMT2A  0.000000e+00\n",
      "18160         DGCR8  0.000000e+00\n",
      "18159    AC006547.3  0.000000e+00\n",
      "18195     IGLV10-54  0.000000e+00\n",
      "18157        TANGO2  0.000000e+00\n",
      "18156         ARVCF  0.000000e+00\n",
      "18155          COMT  0.000000e+00\n",
      "18154        TXNRD2  0.000000e+00\n",
      "18153         RTL10  0.000000e+00\n",
      "18152         GNB1L  0.000000e+00\n",
      "18151         GP1BB  0.000000e+00\n",
      "18150       SEPTIN5  0.000000e+00\n",
      "18149         CLDN5  0.000000e+00\n",
      "18148         CDC45  0.000000e+00\n",
      "18147          UFD1  0.000000e+00\n",
      "18146    AC000068.1  0.000000e+00\n",
      "18145        MRPL40  0.000000e+00\n",
      "18158    AC006547.1  0.000000e+00\n",
      "18199        VPREB1  0.000000e+00\n",
      "18198      IGLV6-57  0.000000e+00\n",
      "18197      IGLV4-60  0.000000e+00\n",
      "18196      IGLV8-61  0.000000e+00\n",
      "18239        DRICH1  0.000000e+00\n",
      "18194      IGLV4-69  0.000000e+00\n",
      "18193      IGLVI-70  0.000000e+00\n",
      "18192         TOP3B  0.000000e+00\n",
      "18191    AC245452.1  0.000000e+00\n",
      "18190         PPM1F  0.000000e+00\n",
      "18189         MAPK1  0.000000e+00\n",
      "18188    AP000553.8  0.000000e+00\n",
      "18187         YPEL1  0.000000e+00\n",
      "18172        SNAP29  0.000000e+00\n",
      "18185        SDF2L1  0.000000e+00\n",
      "18184          YDJC  0.000000e+00\n",
      "18183        UBE2L3  0.000000e+00\n",
      "18182      TMEM191C  0.000000e+00\n",
      "18181          HIC2  0.000000e+00\n",
      "18180         P2RX6  0.000000e+00\n",
      "18179     THAP7-AS1  0.000000e+00\n",
      "18178         THAP7  0.000000e+00\n",
      "18177         LZTR1  0.000000e+00\n",
      "18176    AC002470.1  0.000000e+00\n",
      "18175         AIFM3  0.000000e+00\n",
      "18174     LINC01637  0.000000e+00\n",
      "18173          CRKL  0.000000e+00\n",
      "18186         PPIL2  0.000000e+00\n",
      "18314           LIF  0.000000e+00\n",
      "18313    AC002378.1  0.000000e+00\n",
      "18312   HORMAD2-AS1  0.000000e+00\n",
      "18311    AC003681.1  0.000000e+00\n",
      "18310         MTMR3  0.000000e+00\n",
      "18309         ASCC2  0.000000e+00\n",
      "18308        UQCR10  0.000000e+00\n",
      "18307         ZMAT5  0.000000e+00\n",
      "18306           NF2  0.000000e+00\n",
      "18305      NIPSNAP1  0.000000e+00\n",
      "18304         THOC5  0.000000e+00\n",
      "17080      HSD17B14  0.000000e+00\n",
      "18245         MMP11  0.000000e+00\n",
      "18302          NEFH  0.000000e+00\n",
      "18301        RFPL1S  0.000000e+00\n",
      "18300         AP1B1  0.000000e+00\n",
      "18299       RASL10A  0.000000e+00\n",
      "18298        GAS2L1  0.000000e+00\n",
      "18297         EWSR1  0.000000e+00\n",
      "18296        RHBDD3  0.000000e+00\n",
      "18295         EMID1  0.000000e+00\n",
      "18294       KREMEN1  0.000000e+00\n",
      "18293         ZNRF3  0.000000e+00\n",
      "18292      Z93930.2  0.000000e+00\n",
      "18291          XBP1  0.000000e+00\n",
      "18303    AC000035.1  0.000000e+00\n",
      "18340         PATZ1  0.000000e+00\n",
      "18339   PIK3IP1-AS1  0.000000e+00\n",
      "18338       PIK3IP1  0.000000e+00\n",
      "18337         LIMK2  0.000000e+00\n",
      "18336        RNF185  0.000000e+00\n",
      "18335       SELENOM  0.000000e+00\n",
      "18334          SMTN  0.000000e+00\n",
      "18333          TUG1  0.000000e+00\n",
      "18332         MORC2  0.000000e+00\n",
      "18331     MORC2-AS1  0.000000e+00, {'metric': 'mse', 'value': 82.20466456447456})\n"
     ]
    }
   ],
   "source": [
    "print(genes_in_tc4)\n",
    "print(genes_in_tc4_)\n",
    "print(genes_total)\n",
    "print(genes_total_)\n",
    "print(gene_in_tc4_boot)\n",
    "print(gene_in_tc4_boot_)"
   ]
  },
  {
   "cell_type": "code",
   "execution_count": 51,
   "id": "8c4ce40f-66a4-436e-9baa-7826ed044351",
   "metadata": {},
   "outputs": [
    {
     "data": {
      "text/plain": [
       "\u001b[0;31mSignature:\u001b[0m\n",
       "\u001b[0mxgb_gset_finder\u001b[0m\u001b[0;34m(\u001b[0m\u001b[0;34m\u001b[0m\n",
       "\u001b[0;34m\u001b[0m    \u001b[0madata\u001b[0m\u001b[0;34m:\u001b[0m \u001b[0manndata\u001b[0m\u001b[0;34m.\u001b[0m\u001b[0m_core\u001b[0m\u001b[0;34m.\u001b[0m\u001b[0manndata\u001b[0m\u001b[0;34m.\u001b[0m\u001b[0mAnnData\u001b[0m\u001b[0;34m,\u001b[0m\u001b[0;34m\u001b[0m\n",
       "\u001b[0;34m\u001b[0m    \u001b[0mgene_sets\u001b[0m\u001b[0;34m:\u001b[0m \u001b[0mdict\u001b[0m\u001b[0;34m,\u001b[0m\u001b[0;34m\u001b[0m\n",
       "\u001b[0;34m\u001b[0m    \u001b[0mprognosis_factor_col\u001b[0m\u001b[0;34m:\u001b[0m \u001b[0mstr\u001b[0m\u001b[0;34m,\u001b[0m\u001b[0;34m\u001b[0m\n",
       "\u001b[0;34m\u001b[0m    \u001b[0msample_label_col\u001b[0m\u001b[0;34m:\u001b[0m \u001b[0mstr\u001b[0m \u001b[0;34m=\u001b[0m \u001b[0;32mNone\u001b[0m\u001b[0;34m,\u001b[0m\u001b[0;34m\u001b[0m\n",
       "\u001b[0;34m\u001b[0m    \u001b[0muse_pseudobulk\u001b[0m\u001b[0;34m:\u001b[0m \u001b[0mbool\u001b[0m \u001b[0;34m=\u001b[0m \u001b[0;32mTrue\u001b[0m\u001b[0;34m,\u001b[0m\u001b[0;34m\u001b[0m\n",
       "\u001b[0;34m\u001b[0m    \u001b[0mcell_identity_col\u001b[0m\u001b[0;34m:\u001b[0m \u001b[0mstr\u001b[0m \u001b[0;34m=\u001b[0m \u001b[0;32mNone\u001b[0m\u001b[0;34m,\u001b[0m\u001b[0;34m\u001b[0m\n",
       "\u001b[0;34m\u001b[0m    \u001b[0mtarget_cell_identity\u001b[0m\u001b[0;34m:\u001b[0m \u001b[0mstr\u001b[0m \u001b[0;34m=\u001b[0m \u001b[0;32mNone\u001b[0m\u001b[0;34m,\u001b[0m\u001b[0;34m\u001b[0m\n",
       "\u001b[0;34m\u001b[0m    \u001b[0mn_top_gsets\u001b[0m\u001b[0;34m:\u001b[0m \u001b[0mint\u001b[0m \u001b[0;34m=\u001b[0m \u001b[0;36m20\u001b[0m\u001b[0;34m,\u001b[0m\u001b[0;34m\u001b[0m\n",
       "\u001b[0;34m\u001b[0m    \u001b[0mtest_size\u001b[0m\u001b[0;34m:\u001b[0m \u001b[0mfloat\u001b[0m \u001b[0;34m=\u001b[0m \u001b[0;36m0.2\u001b[0m\u001b[0;34m,\u001b[0m\u001b[0;34m\u001b[0m\n",
       "\u001b[0;34m\u001b[0m    \u001b[0mrandom_state\u001b[0m\u001b[0;34m:\u001b[0m \u001b[0mint\u001b[0m \u001b[0;34m=\u001b[0m \u001b[0;36m42\u001b[0m\u001b[0;34m,\u001b[0m\u001b[0;34m\u001b[0m\n",
       "\u001b[0;34m\u001b[0m    \u001b[0mgsva_method\u001b[0m\u001b[0;34m:\u001b[0m \u001b[0mstr\u001b[0m \u001b[0;34m=\u001b[0m \u001b[0;34m'gsva'\u001b[0m\u001b[0;34m,\u001b[0m\u001b[0;34m\u001b[0m\n",
       "\u001b[0;34m\u001b[0m    \u001b[0mgsva_kcdf\u001b[0m\u001b[0;34m:\u001b[0m \u001b[0mstr\u001b[0m \u001b[0;34m=\u001b[0m \u001b[0;34m'Gaussian'\u001b[0m\u001b[0;34m,\u001b[0m\u001b[0;34m\u001b[0m\n",
       "\u001b[0;34m\u001b[0m\u001b[0;34m)\u001b[0m \u001b[0;34m->\u001b[0m \u001b[0;34m(\u001b[0m\u001b[0;34m<\u001b[0m\u001b[0;32mclass\u001b[0m \u001b[0;34m'pandas.core.frame.DataFrame'\u001b[0m\u001b[0;34m>\u001b[0m\u001b[0;34m,\u001b[0m \u001b[0;34m<\u001b[0m\u001b[0;32mclass\u001b[0m \u001b[0;34m'dict'\u001b[0m\u001b[0;34m>\u001b[0m\u001b[0;34m)\u001b[0m\u001b[0;34m\u001b[0m\u001b[0;34m\u001b[0m\u001b[0m\n",
       "\u001b[0;31mDocstring:\u001b[0m\n",
       "GSVA 점수를 특성으로 사용하여 XGBoost로 예후 관련 유전자 세트를 찾습니다.\n",
       "\n",
       "Args:\n",
       "    adata (anndata.AnnData): 입력 AnnData. adata.X는 정규화된 발현량 권장.\n",
       "    gene_sets (dict): 유전자 세트 딕셔너리.\n",
       "    prognosis_factor_col (str): 예후 인자 컬럼.\n",
       "    sample_label_col (str): 유사벌크 시 샘플 ID 컬럼.\n",
       "    use_pseudobulk (bool): 유사벌크 사용 여부.\n",
       "    cell_identity_col (str, optional): 세포 식별 정보 컬럼.\n",
       "    target_cell_identity (str, optional): 분석 대상 세포 클러스터.\n",
       "    n_top_gsets (int): 반환할 상위 유전자 세트 개수.\n",
       "    test_size (float): 테스트셋 비율.\n",
       "    random_state (int): 난수 시드.\n",
       "    gsva_method (str): GSVA 계산 방법.\n",
       "    gsva_kcdf (str): GSVA에서 사용할 커널 CDF. count 데이터면 'Poisson'.\n",
       "\n",
       "Returns:\n",
       "    pd.DataFrame: 'gene_set', 'importance' 컬럼을 가진 DataFrame.\n",
       "    dict: 모델 성능.\n",
       "\u001b[0;31mFile:\u001b[0m      /data/kjc1/mylit/mypy/mypy/XGBoost.py\n",
       "\u001b[0;31mType:\u001b[0m      function"
      ]
     },
     "metadata": {},
     "output_type": "display_data"
    }
   ],
   "source": [
    "gset=xgb_gset_finder(adata,\"exp_sample_no\",\"nih_change\")"
   ]
  },
  {
   "cell_type": "code",
   "execution_count": null,
   "id": "078aac2c-36dd-4f6e-83c9-c178bcdf2b25",
   "metadata": {},
   "outputs": [],
   "source": []
  },
  {
   "cell_type": "code",
   "execution_count": null,
   "id": "b8701363-7a30-4917-9558-8eb2b4dc1f63",
   "metadata": {},
   "outputs": [],
   "source": []
  },
  {
   "cell_type": "markdown",
   "id": "a7357893-01f1-4a34-a989-004048547c85",
   "metadata": {},
   "source": [
    "# GSEA"
   ]
  },
  {
   "cell_type": "code",
   "execution_count": 45,
   "id": "4ba9810d-08cd-46aa-808a-ac84e8118496",
   "metadata": {},
   "outputs": [
    {
     "ename": "TypeError",
     "evalue": "tuple indices must be integers or slices, not list",
     "output_type": "error",
     "traceback": [
      "\u001b[0;31m---------------------------------------------------------------------------\u001b[0m",
      "\u001b[0;31mTypeError\u001b[0m                                 Traceback (most recent call last)",
      "Cell \u001b[0;32mIn[45], line 14\u001b[0m\n\u001b[1;32m     10\u001b[0m results_df\u001b[38;5;241m=\u001b[39mgenes_total\n\u001b[1;32m     12\u001b[0m \u001b[38;5;66;03m# GSEApy prerank 모듈은 유전자 이름과 랭크 메트릭(여기서는 중요도)을 요구\u001b[39;00m\n\u001b[1;32m     13\u001b[0m \u001b[38;5;66;03m# Series 또는 두 컬럼짜리 DataFrame으로 전달 가능\u001b[39;00m\n\u001b[0;32m---> 14\u001b[0m ranked_genes \u001b[38;5;241m=\u001b[39m \u001b[43mresults_df\u001b[49m\u001b[43m[\u001b[49m\u001b[43m[\u001b[49m\u001b[38;5;124;43m'\u001b[39;49m\u001b[38;5;124;43mgene\u001b[39;49m\u001b[38;5;124;43m'\u001b[39;49m\u001b[43m,\u001b[49m\u001b[43m \u001b[49m\u001b[38;5;124;43m'\u001b[39;49m\u001b[38;5;124;43mimportance\u001b[39;49m\u001b[38;5;124;43m'\u001b[39;49m\u001b[43m]\u001b[49m\u001b[43m]\u001b[49m\n\u001b[1;32m     16\u001b[0m \u001b[38;5;66;03m# 2. 유전자 세트 파일 (예: MSigDB의 hallmark gene sets GMT 파일)\u001b[39;00m\n\u001b[1;32m     17\u001b[0m \u001b[38;5;66;03m# 실제 경로로 변경해야 합니다.\u001b[39;00m\n\u001b[1;32m     18\u001b[0m gene_sets_gmt \u001b[38;5;241m=\u001b[39m \u001b[38;5;124m'\u001b[39m\u001b[38;5;124mh.all.v7.4.symbols.gmt\u001b[39m\u001b[38;5;124m'\u001b[39m \u001b[38;5;66;03m# 예시 GMT 파일\u001b[39;00m\n",
      "\u001b[0;31mTypeError\u001b[0m: tuple indices must be integers or slices, not list"
     ]
    }
   ],
   "source": [
    "import pandas as pd\n",
    "import gseapy as gp\n",
    "\n",
    "# 1. XGBoost 결과로 얻은 유전자 중요도 DataFrame (가정)\n",
    "#    results_df는 'gene'과 'importance' 컬럼을 가져야 함\n",
    "#    results_df = xgb_gene_finder(...) # 이전 단계에서 실행\n",
    "\n",
    "# 예시 데이터 (실제로는 XGBoost 결과 사용)\n",
    "\n",
    "results_df=genes_total\n",
    "\n",
    "# GSEApy prerank 모듈은 유전자 이름과 랭크 메트릭(여기서는 중요도)을 요구\n",
    "# Series 또는 두 컬럼짜리 DataFrame으로 전달 가능\n",
    "ranked_genes = results_df[['gene', 'importance']]\n",
    "\n",
    "# 2. 유전자 세트 파일 (예: MSigDB의 hallmark gene sets GMT 파일)\n",
    "# 실제 경로로 변경해야 합니다.\n",
    "gene_sets_gmt = 'h.all.v7.4.symbols.gmt' # 예시 GMT 파일\n",
    "\n",
    "# 3. GSEApy Prerank 실행\n",
    "#    permutation_num은 보통 1000 이상으로 설정 (시간이 오래 걸릴 수 있음)\n",
    "try:\n",
    "    pre_res = gp.prerank(rnk=ranked_genes,\n",
    "                         gene_sets=gene_sets_gmt,\n",
    "                         permutation_num=100, # 예시를 위해 줄임, 실제로는 1000+\n",
    "                         outdir='gsea_prerank_output', # 결과 저장 폴더\n",
    "                         format='png',\n",
    "                         seed=42)\n",
    "\n",
    "    print(\"GSEA Prerank 결과 요약:\")\n",
    "    print(pre_res.res2d.head())\n",
    "\n",
    "    # 특정 유전자 세트의 농축 플롯 보기 (결과 폴더에 저장됨)\n",
    "    # terms = pre_res.res2d.index[:5] # 상위 5개 유전자 세트\n",
    "    # for term in terms:\n",
    "    #     gp.plot.plot_gsea(pre_res.res2d, term=term, ofname=f'gsea_plot_{term.replace(\":\", \"_\")}.png')\n",
    "\n",
    "except Exception as e:\n",
    "    print(f\"GSEApy 실행 중 오류 발생: {e}\")\n",
    "    print(\"gseapy와 유전자 세트 파일이 올바르게 설치/지정되었는지 확인하세요.\")\n",
    "    print(\"예시 GMT 파일 'h.all.v7.4.symbols.gmt'은 Broad Institute MSigDB에서 다운로드 가능합니다.\")"
   ]
  },
  {
   "cell_type": "code",
   "execution_count": null,
   "id": "fd81ba99-5c8c-48ba-a28a-c6260aa3c8a6",
   "metadata": {},
   "outputs": [],
   "source": []
  }
 ],
 "metadata": {
  "kernelspec": {
   "display_name": "Python 3 (ipykernel)",
   "language": "python",
   "name": "python3"
  },
  "language_info": {
   "codemirror_mode": {
    "name": "ipython",
    "version": 3
   },
   "file_extension": ".py",
   "mimetype": "text/x-python",
   "name": "python",
   "nbconvert_exporter": "python",
   "pygments_lexer": "ipython3",
   "version": "3.10.4"
  }
 },
 "nbformat": 4,
 "nbformat_minor": 5
}
