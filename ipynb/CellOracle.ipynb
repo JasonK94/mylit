{
 "cells": [
  {
   "cell_type": "markdown",
   "id": "60c0e68c-4371-43e3-9c23-8340bd587ee0",
   "metadata": {},
   "source": [
    "# CellOracle 개요 ― “GRN + in silico perturbation”\n",
    "CellOracle는 단일-세포 전사체(scRNA-seq)나 scATAC-seq로부터 **세포-특이적 유전자 조절 네트워크(GRN)**를 추정한 뒤,\n",
    "해당 GRN을 기반으로 전사인자(TF)·유전자 조작(KO/OE/점변이 등)을 컴퓨터 안에서 시뮬레이션해 세포 상태 변화를 예측하는 Python 라이브러리입니다.\n",
    "구현된 핵심 모듈은 Oracle 클래스(데이터·모델·시뮬레이션 담당)와 Links 클래스(GRN 엣지 저장/분석) 두 개로 간단합니다.\n",
    "morris-lab.github.io\n",
    "\n",
    "1. 주요 산출물(Outputs)\n",
    "산출물\t형식\t의미/용도\n",
    "Oracle 객체\tco.Oracle 인스턴스 (oracle.hdf5로 저장 가능)\t전 과정의 메타 컨테이너. 원본 AnnData, 추정된 GRN, 시뮬레이션 결과, 시각화 좌표 등을 가진다.\n",
    "Links 객체\tco.Links 인스턴스 (links.hdf5)\t(cluster × TF × target) 가중치 테이블. GRN 엣지 가중치와 분석 메서드 내장.\n",
    "Imputed expression layer\toracle.adata.layers[\"imputed_count\"]\tGRN 기반 KNN-보간(count 복원) 결과.\n",
    "Perturbation prediction\toracle.simulation_result dict\t{ perturb_name: AnnData } 구조. 각 KO/OE 후 세포별 예상 발현·UMAP 벡터 필드 포함.\n",
    "Vector-field / Stream plot\tmatplotlib figure\t시뮬레이션-예측 세포 이동 경로.\n",
    "Regulon importance scores\toracle.network_score\tTF·gene 레벨의 중심성/필요도 지표."
   ]
  },
  {
   "cell_type": "code",
   "execution_count": null,
   "id": "2c248472-fb43-44f8-a62c-133f9009f1ef",
   "metadata": {},
   "outputs": [],
   "source": [
    "# Cell oracle dependency 해결"
   ]
  },
  {
   "cell_type": "code",
   "execution_count": null,
   "id": "8b89b743-5171-4114-b899-d56ee7ccf49a",
   "metadata": {},
   "outputs": [],
   "source": [
    "conda create -n celloracle python=3.10\n",
    "conda install -c conda-forge \\\n",
    "  numpy=1.26.4 \\\n",
    "  pandas=1.5.3 \\\n",
    "  anndata=0.10.8 \\\n",
    "  pybind11>=2.12 \\\n",
    "  pip \\\n",
    "  ipykernel \\\n",
    "  jupyterlab\n",
    "conda activate celloracle\n",
    "pip install --no-deps celloracle==0.20.0\n",
    "conda install -c conda-forge numpy=1.26.4 pandas=1.5.3 anndata=0.10.8 pybind11>=2.12 pip ipykernel jupyterlab\n",
    "conda install -c anndata=0.10.8 pybind11>=2.12"
   ]
  },
  {
   "cell_type": "code",
   "execution_count": null,
   "id": "cdcf0f1d-8385-4b32-b2a2-bdeea75ac98e",
   "metadata": {},
   "outputs": [],
   "source": []
  },
  {
   "cell_type": "markdown",
   "id": "0b29871d-8c21-45df-ac1a-6815d82e0934",
   "metadata": {},
   "source": [
    "# Initiation"
   ]
  },
  {
   "cell_type": "code",
   "execution_count": 11,
   "id": "85082bd5-48ff-4a07-88bd-8d72024b1e3a",
   "metadata": {},
   "outputs": [],
   "source": [
    "import scanpy as sc, celloracle as co, pandas as pd, scipy\n",
    "############################################\n",
    "# 0) 데이터 로드 & 전처리\n",
    "############################################\n",
    "adata = sc.read_h5ad(\"/data/kjc1/projects/#130.stroke/sobj/h5ad/is.h5ad\")        # 이미 HVG 2-3 k 선택된 상태 권장\n",
    "adata.layers[\"raw_count\"] = adata.X.copy() # 원본 count 백업\n",
    "# (필요 시 adata.obsm[\"X_umap\"] 생성)\n",
    "cluster_key=\"integrated_1.1\"\n",
    "root_dir=\"/data/kjc1/projects/#130.stroke/sobj/h5ad/\""
   ]
  },
  {
   "cell_type": "code",
   "execution_count": 12,
   "id": "94ffb8bf-ca43-4ea7-b8a8-e8fa26c906c1",
   "metadata": {
    "collapsed": true,
    "jupyter": {
     "outputs_hidden": true
    }
   },
   "outputs": [
    {
     "data": {
      "text/plain": [
       "AnnData object with n_obs × n_vars = 33878 × 1200\n",
       "    obs: 'orig.ident', 'nCount_RNA', 'nFeature_RNA', 'Barcode', 'Best_Sample', 'Best_Probability', 'Second_Best_Sample', 'Second_Best_Probability', 'Probability_Ratio', 'droplet_demulti', 'GEM', 'join_key', 'day', 'nCount_SCT', 'nFeature_SCT', 'SCT_snn_res.0.8', 'seurat_clusters', 'droplet', 'sample_hto', 'GEM_hto', 'ol_time_point', 'sample_no', 'hos_no', 'sample_type', 'experiment_number', 'name', 'sex', 'birthdate', 'age', 'type', 'adm_date', 'sx_onset', 'blood_sample_time', 'csf_yn', 'csf_sample_time', 'csf_from', 'sample_done_time', 'exp_sample_no', 'set', 'multi_method', 'hto_no', 'charge', 'crcs_no', 'hash_id', 'sample_no.1', 'male', 'ht', 'wt', 'last_normal_dt', 'symptom_onset_dt', 'arrival_dt', 'blood_sample_time.1', 'LNT_to_sample_h', 'FAT_to_sample_h', 'hx_pre_mrs', 'toast', 'ivt', 'iat', 'ia_angio', 'pre_evt_state', 'post_evt_state', 'succ_recan', 'iv_start', 'ia_start', 'ia_end', 'lnt_to_iat_h', 'iat_to_sample_h', 'sHT', 'HT_type', 'END', 'END1_kind', 'nih_end1', 'ini_nih', 'nih1d', 'dis_nih', 'nih_change', 'reperfusion_injury', 'icu_dis_gcs_total', 'dis_mrs', 'mrs3mo', 'mrs_6m', 'gose_6m', 'mrs_12m', 'gose_12m', 'hx_htn', 'hx_dm', 'hx_hl', 'hx_af', 'hx_chd', 'hx_ckd', 'hx_tia', 'hx_str', 'hx_pad', 'hx_ca', 'hx_smok', 'wbc', 'hb', 'plt', 'fbs', 'ldl', 'ha1c', 'crp', 'tc', 'tg', 'hdl', 'd_dimer', 'memo', 'group', 'group1', 'group2', 'group3', 'integrated_snn_res.0.8', 'annotation4_gemini', 'integrated_1.1', 'annotation1_gemini', 'annotation2_big', 'annotation2_detail'\n",
       "    var: 'gene_symbols', 'highly_variable', 'highly_variable_rank', 'means', 'variances', 'variances_norm'\n",
       "    uns: 'project_name', 'seurat_default_assay', 'seurat_version', 'hvg'\n",
       "    obsm: 'X_pca', 'X_umap'\n",
       "    layers: 'RNA_counts', 'raw_count'"
      ]
     },
     "execution_count": 12,
     "metadata": {},
     "output_type": "execute_result"
    }
   ],
   "source": [
    "adata_orig=adata\n",
    "\n",
    "# oracle expect 1k~3k genes. over 3k genes can make the model unreliable, under 1k(effectively; by flavor, top_genes can be less than your input) can make subscript out of bounds error\n",
    "sc.pp.highly_variable_genes(\n",
    "    adata,\n",
    "    n_top_genes=1200,\n",
    "    flavor=\"seurat_v3\",# 추천 옵션 중 하나\n",
    "    subset=True # 이 옵션을 켜면 자동으로 adata = adata[:, var.highly_variable] 해줌\n",
    ")\n",
    "# 늘어난 후보 중 최상위 1200개 뽑고, 그중 상위 1000개가 score 계산에 쓰이므로 안전\n",
    "\n",
    "adata.raw=adata.copy()\n",
    "adata"
   ]
  },
  {
   "cell_type": "code",
   "execution_count": null,
   "id": "84edcdf8-f65b-4088-8609-5a55fa6fc040",
   "metadata": {},
   "outputs": [],
   "source": [
    "# ncomp determination\n",
    "from sklearn.decomposition import PCA\n",
    "import numpy as np\n",
    "\n",
    "# adata.X 또는 adata.layers[\"raw_count\"]에 PCA 적용\n",
    "pca = PCA(n_components=min(adata.n_obs, adata.n_vars))\n",
    "pca.fit(adata.X.toarray() if scipy.sparse.issparse(adata.X) else adata.X)\n",
    "cumvar = np.cumsum(pca.explained_variance_ratio_)\n",
    "\n",
    "# 예: 80% 누적 분산 지점 찾기\n",
    "n_comps = int(np.searchsorted(cumvar, 0.80) + 1)\n",
    "print(f\"80% 분산 누적 지점의 PC 개수: {n_comps}\")\n"
   ]
  },
  {
   "cell_type": "code",
   "execution_count": null,
   "id": "6789a7e4-3c62-4baa-9a2b-f1491ea9af54",
   "metadata": {},
   "outputs": [],
   "source": [
    "#k decision\n",
    "# 전체 세포 수의 1%–5% 범위를 권장\n",
    "pct = 0.03   # 3%\n",
    "k = max(10, int(pct * adata.n_obs))\n",
    "print(f\"k (이웃 수): {k}\")"
   ]
  },
  {
   "cell_type": "code",
   "execution_count": 21,
   "id": "4ce329d6-8d33-418b-a2cc-a817be4ee7ef",
   "metadata": {},
   "outputs": [],
   "source": [
    "n_comps=20\n",
    "k=500\n",
    "# k=800\n",
    "# k=1000"
   ]
  },
  {
   "cell_type": "code",
   "execution_count": 22,
   "id": "4dc47c52-7258-4d6b-97d4-4e558436f92c",
   "metadata": {},
   "outputs": [
    {
     "name": "stdout",
     "output_type": "stream",
     "text": [
      "Loading prebuilt promoter base-GRN. Version: hg19_gimmemotifsv5_fpr2\n",
      "Total number of TF was 44. Although we can go to the GRN calculation with this data, but the TF number is small.\n"
     ]
    },
    {
     "ename": "AttributeError",
     "evalue": "'Oracle' object has no attribute 'fit_J'",
     "output_type": "error",
     "traceback": [
      "\u001b[0;31m---------------------------------------------------------------------------\u001b[0m",
      "\u001b[0;31mAttributeError\u001b[0m                            Traceback (most recent call last)",
      "Cell \u001b[0;32mIn[22], line 32\u001b[0m\n\u001b[1;32m     23\u001b[0m \u001b[38;5;66;03m# → 중요 PC 개수(n_comps) 결정 (예: 30)\u001b[39;00m\n\u001b[1;32m     24\u001b[0m oracle\u001b[38;5;241m.\u001b[39mknn_imputation(\n\u001b[1;32m     25\u001b[0m     n_pca_dims \u001b[38;5;241m=\u001b[39m \u001b[38;5;241m20\u001b[39m,\n\u001b[1;32m     26\u001b[0m     k          \u001b[38;5;241m=\u001b[39m \u001b[38;5;28mint\u001b[39m(\u001b[38;5;241m0.03\u001b[39m \u001b[38;5;241m*\u001b[39m oracle\u001b[38;5;241m.\u001b[39madata\u001b[38;5;241m.\u001b[39mshape[\u001b[38;5;241m0\u001b[39m]),  \u001b[38;5;66;03m# 예: 세포 수의 3%\u001b[39;00m\n\u001b[0;32m   (...)\u001b[0m\n\u001b[1;32m     30\u001b[0m     n_jobs     \u001b[38;5;241m=\u001b[39m \u001b[38;5;241m4\u001b[39m\n\u001b[1;32m     31\u001b[0m )\n\u001b[0;32m---> 32\u001b[0m \u001b[43moracle\u001b[49m\u001b[38;5;241;43m.\u001b[39;49m\u001b[43mfit_J\u001b[49m(use_highly_variable\u001b[38;5;241m=\u001b[39m\u001b[38;5;28;01mTrue\u001b[39;00m, verbose\u001b[38;5;241m=\u001b[39m\u001b[38;5;28;01mTrue\u001b[39;00m)    \u001b[38;5;66;03m# motif→J matrix\u001b[39;00m\n\u001b[1;32m     33\u001b[0m oracle\u001b[38;5;241m.\u001b[39minfer_grn(alpha\u001b[38;5;241m=\u001b[39m\u001b[38;5;241m0.05\u001b[39m, random_state\u001b[38;5;241m=\u001b[39m\u001b[38;5;241m0\u001b[39m)            \u001b[38;5;66;03m# Lasso/Ridge 선택 가능\u001b[39;00m\n\u001b[1;32m     34\u001b[0m links \u001b[38;5;241m=\u001b[39m oracle\u001b[38;5;241m.\u001b[39mexport_links(\u001b[38;5;28mformat\u001b[39m\u001b[38;5;241m=\u001b[39m\u001b[38;5;124m'\u001b[39m\u001b[38;5;124mdf\u001b[39m\u001b[38;5;124m'\u001b[39m)                \u001b[38;5;66;03m# DataFrame 으로도 추출\u001b[39;00m\n",
      "\u001b[0;31mAttributeError\u001b[0m: 'Oracle' object has no attribute 'fit_J'"
     ]
    }
   ],
   "source": [
    "\n",
    "\n",
    "\n",
    "############################################\n",
    "# 1) Oracle 객체 생성 & 데이터 주입\n",
    "############################################\n",
    "oracle = co.Oracle()\n",
    "oracle.import_anndata_as_raw_count(\n",
    "        adata              = adata,\n",
    "        cluster_column_name= cluster_key,     # obs 내 클러스터 컬럼명\n",
    "        embedding_name     = \"X_umap\"       # obsm 키\n",
    ")\n",
    "\n",
    "############################################\n",
    "# 2) Base-GRN 불러오기 (예: 마우스 sci-ATAC atlas)\n",
    "############################################\n",
    "# base_grn = co.data.load_mouse_scATAC_atlas_base_GRN()   # 내 ATAC-seq 결과로 직접 만들 수도 있음\n",
    "# 인간 데이터라면\n",
    "base_grn = co.data.load_human_promoter_base_GRN()\n",
    "oracle.import_TF_data(TF_info_matrix = base_grn)\n",
    "\n",
    "############################################\n",
    "# 3) KNN imputation + GRN 추정\n",
    "############################################\n",
    "oracle.perform_PCA()\n",
    "# → 중요 PC 개수(n_comps) 결정 (예: 30)\n",
    "oracle.knn_imputation(\n",
    "    n_pca_dims = 20,\n",
    "    k          = int(0.03 * oracle.adata.shape[0]),  # 예: 세포 수의 3%\n",
    "    balanced   = True,\n",
    "    b_sight    = k*8,\n",
    "    b_maxl     = k*4,\n",
    "    n_jobs     = 32\n",
    ")\n",
    "\n",
    "# 1) 기존 fit_J / infer_grn / export_links 단계 대신…\n",
    "links_obj = oracle.get_links(\n",
    "    cluster_name_for_GRN_unit = cluster_key,   # 예: \"louvain\"\n",
    "    alpha                     = 10,            # 규제 세기: 1~20 사이 실험 추천\n",
    "    bagging_number            = 20,            # bagging 반복 횟수 (기본 20)\n",
    "    verbose_level             = 1,             # 0:무출력, 1:프로그레스바, 2~:디테일\n",
    "    model_method              = \"bagging_ridge\",# \"bagging_ridge\" 또는 \"bayesian_ridge\"\n",
    "    n_jobs                    = 32             # 병렬 코어 수\n",
    ")\n",
    "links_obj.to_hdf5(root_dir+\"links_obj.celloracle.links\")\n",
    "# 1) GRN 필터링 (예: 상위 10,000 엣지만)\n",
    "links_obj.filter_links(p=0.001, weight=\"coef_abs\", threshold_number=10000)\n",
    "\n",
    "# 2) 시뮬레이션 준비\n",
    "oracle.get_cluster_specific_TFdict_from_Links(links_obj)\n",
    "oracle.fit_GRN_for_simulation(alpha=10, verbose_level=1)\n",
    "\n",
    "# 3) perturbation & 시각화\n",
    "oracle.simulate_shift({\"GATA1\": 0.0}, n_propagation=3)\n",
    "oracle.visualize_simulation_stream(\n",
    "    color_by=cluster_key,\n",
    "    embedding_name=\"X_umap\",\n",
    "    basis=\"prediction\"\n",
    ")\n",
    "oracle.to_hdf5(root_dir+\"oracle_Gata1_KO.celloracle.oracle\")\n"
   ]
  },
  {
   "cell_type": "code",
   "execution_count": null,
   "id": "8af3f842-f972-4ec9-84d0-b56523cda498",
   "metadata": {},
   "outputs": [],
   "source": [
    "adata=adata_orig"
   ]
  },
  {
   "cell_type": "code",
   "execution_count": null,
   "id": "5ebece4f-ceab-457e-9bd2-89abd11e3f5f",
   "metadata": {},
   "outputs": [],
   "source": [
    "\n",
    "\n",
    "\n",
    "############################################\n",
    "# 1) Oracle 객체 생성 & 데이터 주입\n",
    "############################################\n",
    "oracle = co.Oracle()\n",
    "oracle.import_anndata_as_raw_count(\n",
    "        adata              = adata,\n",
    "        cluster_column_name= cluster_key,     # obs 내 클러스터 컬럼명\n",
    "        embedding_name     = \"X_umap\"       # obsm 키\n",
    ")\n",
    "\n",
    "############################################\n",
    "# 2) Base-GRN 불러오기 (예: 마우스 sci-ATAC atlas)\n",
    "############################################\n",
    "# base_grn = co.data.load_mouse_scATAC_atlas_base_GRN()   # 내 ATAC-seq 결과로 직접 만들 수도 있음\n",
    "# 인간 데이터라면\n",
    "base_grn = co.data.load_human_promoter_base_GRN()\n",
    "oracle.import_TF_data(TF_info_matrix = base_grn)\n",
    "\n",
    "############################################\n",
    "# 3) KNN imputation + GRN 추정\n",
    "############################################\n",
    "oracle.perform_PCA()\n",
    "# → 중요 PC 개수(n_comps) 결정 (예: 30)\n",
    "oracle.knn_imputation(\n",
    "    n_pca_dims = 20,\n",
    "    k          = int(0.03 * oracle.adata.shape[0]),  # 예: 세포 수의 3%\n",
    "    balanced   = True,\n",
    "    b_sight    = k*8,\n",
    "    b_maxl     = k*4,\n",
    "    n_jobs     = 32\n",
    ")\n",
    "\n",
    "# 1) 기존 fit_J / infer_grn / export_links 단계 대신…\n",
    "links_obj = oracle.get_links(\n",
    "    cluster_name_for_GRN_unit = cluster_key,   # 예: \"louvain\"\n",
    "    alpha                     = 10,            # 규제 세기: 1~20 사이 실험 추천\n",
    "    bagging_number            = 20,            # bagging 반복 횟수 (기본 20)\n",
    "    verbose_level             = 1,             # 0:무출력, 1:프로그레스바, 2~:디테일\n",
    "    model_method              = \"bagging_ridge\",# \"bagging_ridge\" 또는 \"bayesian_ridge\"\n",
    "    n_jobs                    = 32             # 병렬 코어 수\n",
    ")\n",
    "links_obj.to_hdf5(root_dir+\"links2.h5\")\n",
    "# 1) GRN 필터링 (예: 상위 10,000 엣지만)\n",
    "links_obj.filter_links(p=0.001, weight=\"coef_abs\", threshold_number=10000)\n",
    "\n",
    "# 2) 시뮬레이션 준비\n",
    "oracle.get_cluster_specific_TFdict_from_Links(links_obj)\n",
    "oracle.fit_GRN_for_simulation(alpha=10, verbose_level=1)\n",
    "\n",
    "# 3) perturbation & 시각화\n",
    "oracle.simulate_shift({\"GATA1\": 0.0}, n_propagation=3)\n",
    "oracle.visualize_simulation_stream(\n",
    "    color_by=cluster_key,\n",
    "    embedding_name=\"X_umap\",\n",
    "    basis=\"prediction\"\n",
    ")\n",
    "oracle.save_oracle(root_dir+\"oracle_Gata1_KO2.hdf5\")\n"
   ]
  },
  {
   "cell_type": "markdown",
   "id": "2566a91a-25f7-40a2-82d0-f1829df6f378",
   "metadata": {},
   "source": [
    "# 4. 중요 함수별 설명 & 실전 팁\n",
    "단계\t핵심 함수\t파라미터 팁\t해석/주의\n",
    "KNN Imputation\tget_knn_imputation()\tn_neighbors=cell × 0.01 ~ 0.05\t주변 유사 세포 기반 결측/희소 count 보정.\n",
    "Motif 스캔(J)\tfit_J(window=1000)\t프롬프터 기반 프로모터 길이 조정\twindow 길이 ↑ → False-positive 엣지 ↑\n",
    "GRN 추정(W)\tinfer_grn(alpha=0.05)\talpha = Lasso 규제 강도\t과규제 시 엣지 소실, 저규제 시 과밀\n",
    "Links 필터링\tlinks.filter_links()\tmin_coefficient, min_abs_corr\t스파스한 GRN 선호→Downstream 속도 개선\n",
    "Simulation fit\tfit_GRN_for_simulation(alpha=10)\tRidge α 값\t예측 안정성↑ vs 세부감도↓, α=5-20 탐색\n",
    "Perturbation\tsimulate_shift({gene: val})\t- KO: 0, - OE: 2 × max expr\t드라마틱 OE 값은 벡터 필드 왜곡 위험\n",
    "시각화\tvisualize_simulation_stream()\tbasis=\"prediction\"/\"difference\"\t실제 UMAP → 방향 벡터 레이어로 오버레이\n",
    "\n",
    "# 5. CellOracle 결과를 해석하는 법 (과외 Q&A 스타일)\n",
    "Q1. Links 객체에서 coefficient 값이 클수록 무슨 의미인가요?\n",
    "A. LASSO/Ridge에서 나온 **가중치(W)**로, TF → target gene의 양·음 영향도 및 크기를 나타냅니다. 양수 = 활성, 음수 = 억제 경향으로 해석합니다. 절대값이 0에 가까우면 ‘근거 희박’.\n",
    "\n",
    "Q2. simulation_result에서 각 세포의 dX, velocity 벡터는?\n",
    "A. GRN을 선형 ODE( dX = W·X )로 근사하여 n_propagation 스텝 동안 퍼뜨린 후,\n",
    "시작 세포-표현형(UMAP 좌표) 대비 이동량을 벡터로 기록한 것입니다.\n",
    "0 벡터 : 해당 세포 상태가 perturbation의 평형점에 이미 가까움.\n",
    "\n",
    "Q3. 여러 TF를 동시에 KO/OE하려면?\n",
    "\n",
    "python\n",
    "oracle.simulate_shift(\n",
    "       perturb_condition={\"Gata1\":0.0, \"Tal1\":0.0},\n",
    "       n_propagation=3)\n",
    "딕셔너리 key-value로 몇 개든 지정할 수 있습니다.\n",
    "\n",
    "Q4. GRN 품질을 빠르게 평가하는 지표가 있나요?\n",
    "oracle.network_score (Shannon entropy 기반)이나\n",
    "links_obj.plot_degree_distribution()으로 엣지 분포를 확인해 과-희소/과-조밀 여부를 시각적으로 판단합니다.\n",
    "\n",
    "# 6. 추가 읽을거리\n",
    "Nature (2024) 논문: CellOracle로 84개 TF KO 시뮬레이션을 통해 혈액 분화 경로를 검증.\n",
    "Nature\n",
    "\n",
    "Mini-review (2024) : 단일-세포 perturbation 모델링 도구 비교 (CellOracle vs scGen 등).\n",
    "PMC\n",
    "\n",
    "공식 문서 & 튜토리얼: step-by-step Jupyter 노트북 제공.\n",
    "morris-lab.github.io\n",
    "\n",
    "# 마무리 조언\n",
    "**데이터 준비가 80 %**입니다. 엄격한 HVG 필터와 batch correction(Scanpy bbknn/scVI) 후 CellOracle에 투입하세요.\n",
    "\n",
    "scATAC 기반 base-GRN을 쓰면 예측 정확도가 확연히 향상됩니다.\n",
    "\n",
    "Perturbation 결과는 가설 생성 용도입니다. Wet lab validation을 꼭 병행하세요!"
   ]
  },
  {
   "cell_type": "code",
   "execution_count": null,
   "id": "6b5f6d09-259b-483b-a2ef-17aafc388236",
   "metadata": {},
   "outputs": [],
   "source": []
  },
  {
   "cell_type": "code",
   "execution_count": null,
   "id": "8cf6da3d-f063-473f-9b8a-858a7241bc4c",
   "metadata": {},
   "outputs": [],
   "source": []
  }
 ],
 "metadata": {
  "kernelspec": {
   "display_name": "Python 3 (ipykernel)",
   "language": "python",
   "name": "python3"
  },
  "language_info": {
   "codemirror_mode": {
    "name": "ipython",
    "version": 3
   },
   "file_extension": ".py",
   "mimetype": "text/x-python",
   "name": "python",
   "nbconvert_exporter": "python",
   "pygments_lexer": "ipython3",
   "version": "3.10.4"
  }
 },
 "nbformat": 4,
 "nbformat_minor": 5
}
