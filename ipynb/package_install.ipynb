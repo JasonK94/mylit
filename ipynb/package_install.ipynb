{
 "cells": [
  {
   "cell_type": "markdown",
   "id": "9b0252f8-e041-4feb-8210-55458c10455c",
   "metadata": {},
   "source": [
    "# checkout"
   ]
  },
  {
   "cell_type": "code",
   "execution_count": null,
   "id": "054e8c1f-11c4-49a6-9146-f8eb61fff5b8",
   "metadata": {},
   "outputs": [],
   "source": [
    "# 패키지 경로\n",
    "import site; print(site.getsitepackages()[0])\n",
    "\n",
    "# 파이썬 경로\n",
    "import sys\n",
    "print(sys.executable)\n",
    "print(sys.path)\n",
    "\n",
    "# 현재 패키지 리스트\n",
    "!conda list\n",
    "\n"
   ]
  },
  {
   "cell_type": "markdown",
   "id": "a7c62241-eb0d-424f-aa8f-c9d54ab5d4b7",
   "metadata": {},
   "source": [
    "# python packages"
   ]
  },
  {
   "cell_type": "markdown",
   "id": "368ff79a-87d0-4c04-b69c-67012dab40aa",
   "metadata": {},
   "source": [
    "jupyter 내에서 !conda install 쓰면 환경인식문제를 일으킬 수 있음. 즉 이런 짓 할 필요가 없다.\n",
    "특히 base 외에서는 conda로 설치해도 실제 jupyter 커널에 적용되지 않을 수 있음\n",
    "-y: 설치 중에 yes/no 묻지 않고 자동 설치\n",
    "!conda install -y -c conda-forge scvi-tools colorcet umap-learn rpy2 scanpy pandas numpy seaborn matplotlib\n",
    "!!{sys.executable} -m pip install pyreadr rpy2 loompy #rds 읽기, 파일변환 등\n",
    "!!{sys.executable} -m pip install \"spatialdata[extra]\""
   ]
  },
  {
   "cell_type": "markdown",
   "id": "7d061fc6-e891-495d-8cf1-7fff9e2efddb",
   "metadata": {},
   "source": [
    "## basics"
   ]
  },
  {
   "cell_type": "code",
   "execution_count": null,
   "id": "22fc4694-6080-4f81-b52e-f3c40ae1801f",
   "metadata": {},
   "outputs": [],
   "source": [
    "pip install colorcet umap scanpy pandas numpy seaborn matplotlib scvi-tools scenvi scikit-misc igraph leidenalg mygene harmonypy scanorama louvain loompy\n",
    "pip install --upgrade anndata\n",
    "# integration\n",
    "# harmonypy scanorama\n",
    "# clustering\n",
    "# louvain\n"
   ]
  },
  {
   "cell_type": "markdown",
   "id": "7ae4849d-a796-4d55-b7a4-2c161453f944",
   "metadata": {},
   "source": [
    "### additional"
   ]
  },
  {
   "cell_type": "code",
   "execution_count": null,
   "id": "ce51d4f8-bf47-4748-bce6-d731438f6229",
   "metadata": {},
   "outputs": [],
   "source": [
    "# faster umap\n",
    "conda install -c rapidsai cuml"
   ]
  },
  {
   "cell_type": "markdown",
   "id": "955e0bc0-7b30-4ffb-8033-38e0127015dd",
   "metadata": {},
   "source": [
    "## customs"
   ]
  },
  {
   "cell_type": "code",
   "execution_count": null,
   "id": "f5b8b6e1-2685-4e76-8153-7b05ab14dc1b",
   "metadata": {},
   "outputs": [],
   "source": [
    "import sys\n",
    "# 예: 해당 폴더 안에 안에 tools.py가 있을 때\n",
    "sys.path.append(\"/home/jaecheon/pyscripts\")\n",
    "sys.path.append(\"/data/kjc1/mylit/myPy\") # import tools"
   ]
  },
  {
   "cell_type": "markdown",
   "id": "42de3dd0-8286-40e5-ba56-37c453ca5524",
   "metadata": {},
   "source": [
    "## cell oracle .. 설치 후. 그러나 co.check_python_requirements()에는 아무 문제 없었다!"
   ]
  },
  {
   "cell_type": "code",
   "execution_count": null,
   "id": "5c3a0ca4-3396-4ae4-8f4a-360fd0bf58b0",
   "metadata": {},
   "outputs": [],
   "source": [
    "pip install celloracle"
   ]
  },
  {
   "cell_type": "markdown",
   "id": "942bdcb6-61e3-44bb-b971-589f9e0cdde5",
   "metadata": {
    "jupyter": {
     "source_hidden": true
    }
   },
   "source": [
    "2025-05-13 10:18:47,339 - INFO - Creating new config.\n",
    "2025-05-13 10:18:47,341 - INFO - Using included version of AMD.\n",
    "2025-05-13 10:18:47,342 - INFO - Using included version of BioProspector.\n",
    "2025-05-13 10:18:47,343 - INFO - Using included version of ChIPMunk.\n",
    "2025-05-13 10:18:47,345 - WARNING - DiNAMO not found. To include it you will have to install it.\n",
    "2025-05-13 10:18:47,346 - WARNING - DREME not found. To include it you will have to install it.\n",
    "2025-05-13 10:18:47,348 - WARNING - GADEM not found. To include it you will have to install it.\n",
    "2025-05-13 10:18:47,349 - INFO - Using included version of HMS.\n",
    "2025-05-13 10:18:47,351 - WARNING - Homer not found. To include it you will have to install it.\n",
    "2025-05-13 10:18:47,352 - INFO - Using included version of Improbizer.\n",
    "2025-05-13 10:18:47,353 - INFO - Using included version of MDmodule.\n",
    "2025-05-13 10:18:47,355 - WARNING - MEME not found. To include it you will have to install it.\n",
    "2025-05-13 10:18:47,356 - WARNING - MEMEW not found. To include it you will have to install it.\n",
    "2025-05-13 10:18:47,357 - INFO - Using included version of MotifSampler.\n",
    "2025-05-13 10:18:47,358 - INFO - Using included version of Posmo.\n",
    "2025-05-13 10:18:47,360 - WARNING - ProSampler not found. To include it you will have to install it.\n",
    "2025-05-13 10:18:47,361 - WARNING - RPMCMC not found. To include it you will have to install it.\n",
    "2025-05-13 10:18:47,363 - WARNING - Trawler not found. To include it you will have to install it.\n",
    "2025-05-13 10:18:47,364 - WARNING - Weeder not found. To include it you will have to install it.\n",
    "2025-05-13 10:18:47,368 - WARNING - XXmotif not found. To include it you will have to install it.\n",
    "2025-05-13 10:18:47,369 - WARNING - Yamda not found. To include it you will have to install it.\n",
    "2025-05-13 10:18:47,371 - INFO - Configuration file: /home/jaecheon/.config/gimmemotifs/gimmemotifs.cfg"
   ]
  },
  {
   "cell_type": "markdown",
   "id": "6bb2487c-8e57-454c-92d5-c78deaf4366f",
   "metadata": {},
   "source": [
    "### 해당 패키지들을 사용하려면 터미널에서.."
   ]
  },
  {
   "cell_type": "markdown",
   "id": "50cd3238-60e8-42e9-ad07-4a876f200eca",
   "metadata": {
    "jupyter": {
     "source_hidden": true
    }
   },
   "source": [
    "conda config --add channels defaults\n",
    "conda config --add channels bioconda\n",
    "conda config --add channels conda-forge\n",
    "conda config --set channel_priority strict\n",
    "conda install -y \\\n",
    "    meme \\\n",
    "    homer \\\n",
    "    weeder \\\n",
    "    gadem \\\n",
    "    dreme \\\n",
    "    xxmotif \\\n",
    "    trawler \\\n",
    "    prosampler \\\n",
    "    rpmcmc \\\n",
    "    yamda\n",
    "\n",
    "설치후 확인\n",
    "gimme motifs --version 혹은\n",
    "~/.config/gimmemotifs/gimmemotifs.cfg 열어보기\n",
    "\n"
   ]
  },
  {
   "cell_type": "markdown",
   "id": "2d9b70f6-4ddc-466f-a9ef-d39aae002343",
   "metadata": {},
   "source": [
    "## advanced tools"
   ]
  },
  {
   "cell_type": "code",
   "execution_count": null,
   "id": "f4d0aabc-1b79-4f4c-aac3-2acfb963f3cf",
   "metadata": {},
   "outputs": [],
   "source": [
    "pip install meld"
   ]
  },
  {
   "cell_type": "markdown",
   "id": "cf5183f8-a158-4352-b59e-79111be89b39",
   "metadata": {},
   "source": [
    "## Spatial"
   ]
  },
  {
   "cell_type": "code",
   "execution_count": null,
   "id": "ad07b9ca-2a41-4458-b1ff-475ce87deac6",
   "metadata": {},
   "outputs": [],
   "source": [
    "pip install scvi-colab\n",
    "# Tangram\n",
    "pip install tangram-sc\n",
    "# TISSUE\n",
    "pip install tissue-sc\n",
    "# gimVI\n",
    "# https://docs.scvi-tools.org/en/1.0.0/tutorials/notebooks/gimvi_tutorial.html"
   ]
  },
  {
   "cell_type": "markdown",
   "id": "251b7f67-638e-43ac-aa73-6083985ea33b",
   "metadata": {},
   "source": [
    "### imputation"
   ]
  },
  {
   "cell_type": "markdown",
   "id": "d4664cfb-cecf-4255-aca1-fb44dcde9558",
   "metadata": {},
   "source": [
    "#### SpaGE\n",
    "https://www.notion.so/drgoze/SpaGE-1dc650f736bf80b7abc0c7c599badcca?pvs=4"
   ]
  },
  {
   "cell_type": "code",
   "execution_count": null,
   "id": "5dc1df40-9de6-46f5-8ff7-cf3b01dcf733",
   "metadata": {
    "jupyter": {
     "source_hidden": true
    }
   },
   "outputs": [],
   "source": [
    "import os\n",
    "os.chdir(\"/home/jaecheon/git_packages/SpaGE\")\n",
    "!cd /home/jaecheon/git_packages/\n",
    "!git clone https://github.com/tabdelaal/SpaGE.git\n",
    "!cd SpaGE\n",
    "#파이썬 import가 참조할 경로에 SpaGE 패키지 위치 추가.\n",
    "!export PYTHONPATH=$(pwd):$PYTHONPATH\n",
    "!echo $PYTHONPATH\n",
    "# 패키지 디렉터리 인식시키기\n",
    "!cd /home/jaecheon/git_packages/SpaGE\n",
    "!touch SpaGE/__init__.py\n",
    "# setup.py만들어 pip-install 가능하게 하기\n",
    "!cd ~/git_packages/SpaGE\n",
    "!cat > setup.py << 'EOF'\n",
    "from setuptools import setup, find_packages\n",
    "\n",
    "setup(\n",
    "    name='SpaGE',\n",
    "    version='0.1.0',\n",
    "    # inner SpaGE 폴더 안의 패키지를 찾아서, 최상위 'SpaGE' 네임스페이스에 매핑\n",
    "    packages=find_packages(where='SpaGE'),\n",
    "    package_dir={'': 'SpaGE'},\n",
    "    install_requires=[\n",
    "        'numpy',\n",
    "        'pandas',\n",
    "        'scipy',\n",
    "        'scikit-learn',\n",
    "    ],\n",
    ")\n",
    "EOF\n",
    "\n",
    "#Editable 모드로 설치\n",
    "!pip install -e . -vvv"
   ]
  },
  {
   "cell_type": "code",
   "execution_count": null,
   "id": "cb1237e6-9ee3-4ec8-9342-d276b4ce224f",
   "metadata": {},
   "outputs": [],
   "source": []
  },
  {
   "cell_type": "markdown",
   "id": "f1230b86-4837-4131-8b81-fb84a274feea",
   "metadata": {},
   "source": [
    "# out of python/jupyter"
   ]
  },
  {
   "cell_type": "markdown",
   "id": "8fe22483-ea0a-4dea-b796-da5a985066d6",
   "metadata": {},
   "source": [
    "## jupyter extensions"
   ]
  },
  {
   "cell_type": "code",
   "execution_count": null,
   "id": "fd4754a9-5efd-41d8-8396-869eb4c4c747",
   "metadata": {},
   "outputs": [],
   "source": [
    "# pip install jupyter ipykernel\n",
    "# pip install lckr-jupyterlab-variableinspector"
   ]
  },
  {
   "cell_type": "markdown",
   "id": "1ffd535a-70f2-4803-8d26-06176006b397",
   "metadata": {},
   "source": [
    "## VScode extensions"
   ]
  },
  {
   "cell_type": "code",
   "execution_count": null,
   "id": "e97ecb20-9c83-429d-a5a7-5e0ecc0c3113",
   "metadata": {},
   "outputs": [],
   "source": []
  },
  {
   "cell_type": "code",
   "execution_count": null,
   "id": "86c4d12f-e2e5-40e2-8e50-0dd824f2a94c",
   "metadata": {},
   "outputs": [],
   "source": []
  },
  {
   "cell_type": "code",
   "execution_count": null,
   "id": "8d69ca85-339d-404f-86ed-c47c4e5da07e",
   "metadata": {},
   "outputs": [],
   "source": []
  }
 ],
 "metadata": {
  "kernelspec": {
   "display_name": "Python 3 (ipykernel)",
   "language": "python",
   "name": "python3"
  },
  "language_info": {
   "codemirror_mode": {
    "name": "ipython",
    "version": 3
   },
   "file_extension": ".py",
   "mimetype": "text/x-python",
   "name": "python",
   "nbconvert_exporter": "python",
   "pygments_lexer": "ipython3",
   "version": "3.10.4"
  }
 },
 "nbformat": 4,
 "nbformat_minor": 5
}
